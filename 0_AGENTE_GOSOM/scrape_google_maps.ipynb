{
 "cells": [
  {
   "cell_type": "markdown",
   "metadata": {},
   "source": [
    "# Google Maps Scraper: Ejecución Local con Jupyter\n",
    "\n",
    "Este cuaderno te guía a través del proceso de clonar, construir y ejecutar el Google Maps Scraper (https://github.com/gosom/google-maps-scraper) directamente en tu máquina local, utilizando celdas de Jupyter para gestionar los comandos de terminal y visualizar los resultados.\n",
    "\n",
    "El objetivo es simplificar el uso del scraper permitiendo definir las consultas y opciones en el cuaderno, y visualizar los primeros resultados al finalizar.\n",
    "\n",
    "**Antes de empezar:**\n",
    "\n",
    "1.  **Asegúrate de tener Go instalado:** Verifica que tienes Go (preferiblemente la versión 1.24.3 o superior) instalado en tu sistema. Puedes verificarlo ejecutando `go version` en tu terminal. Si no lo tienes, instala Go siguiendo las instrucciones oficiales para tu sistema operativo.\n",
    "2.  **Asegúrate de tener Python y Jupyter instalados:** Necesitas un entorno Python con `jupyterlab` o `jupyter notebook` y la librería `pandas` instalados (`pip install jupyterlab pandas`).\n",
    "\n",
    "---\n",
    "\n",
    "**Configuración de Rutas:**\n",
    "\n",
    "Define la ruta donde deseas clonar el repositorio del scraper o donde ya lo tienes clonado.\n"
   ]
  },
  {
   "cell_type": "markdown",
   "metadata": {},
   "source": [
    "Celda 2 (Code): Definir Ruta del Repositorio\n",
    "\n"
   ]
  },
  {
   "cell_type": "code",
   "execution_count": null,
   "metadata": {},
   "outputs": [],
   "source": [
    "import os\n",
    "\n",
    "# --- Configuración ---\n",
    "# Define la ruta donde se encuentra (o se clonará) el repositorio del Google Maps Scraper.\n",
    "# Puedes cambiar 'google-maps-scraper' a una ruta diferente si lo deseas.\n",
    "repo_path = 'google-maps-scraper'\n",
    "# --------------------\n",
    "\n",
    "# Verifica si la carpeta del repositorio ya existe\n",
    "if not os.path.exists(repo_path):\n",
    "    print(f\"El repositorio no se encuentra en '{repo_path}'. La Celda 3 lo clonará.\")\n",
    "else:\n",
    "    print(f\"Se utilizará el repositorio existente en: '{repo_path}'\")\n",
    "\n",
    "# Crea el directorio del repositorio si no existe (necesario para la clonación)\n",
    "os.makedirs(repo_path, exist_ok=True)\n"
   ]
  },
  {
   "cell_type": "markdown",
   "metadata": {},
   "source": [
    "Celda 3 (Markdown): Clonar, Descargar Dependencias y Construir\n",
    "\n"
   ]
  },
  {
   "cell_type": "markdown",
   "metadata": {},
   "source": [
    "## Preparación del Scraper\n",
    "\n",
    "Esta sección se encarga de obtener el código fuente del scraper, descargar las librerías necesarias y construir el ejecutable binario.\n",
    "\n",
    "**Ejecuta esta celda.** Tomará un tiempo la primera vez para descargar las dependencias.\n"
   ]
  },
  {
   "cell_type": "markdown",
   "metadata": {},
   "source": [
    "Celda 4 (Code): Ejecutar Clonación, Descarga y Construcción\n",
    "\n"
   ]
  },
  {
   "cell_type": "code",
   "execution_count": null,
   "metadata": {},
   "outputs": [],
   "source": [
    "import os\n",
    "import subprocess\n",
    "\n",
    "repo_path = 'google-maps-scraper' # Asegúrate de que coincida con la Celda 2\n",
    "\n",
    "# --- Clonar el repositorio (solo si no existe) ---\n",
    "if not os.path.exists(os.path.join(repo_path, '.git')):\n",
    "    print(f\"Clonando el repositorio en '{repo_path}'...\")\n",
    "    try:\n",
    "        subprocess.run(['git', 'clone', 'https://github.com/gosom/google-maps-scraper.git', repo_path], check=True, capture_output=True, text=True)\n",
    "        print(\"Clonación completa.\")\n",
    "    except subprocess.CalledProcessError as e:\n",
    "        print(f\"Error durante la clonación: {e.stderr}\")\n",
    "        print(\"Por favor, verifica tu conexión a internet y los permisos de escritura en el directorio.\")\n",
    "        # Podríamos añadir un sys.exit() o raise una excepción aquí para detener la ejecución si la clonación falla.\n",
    "    except FileNotFoundError:\n",
    "        print(\"Error: El comando 'git' no fue encontrado. Asegúrate de que Git está instalado y accesible desde tu PATH.\")\n",
    "else:\n",
    "    print(f\"El repositorio ya existe en '{repo_path}'. Omitiendo clonación.\")\n",
    "\n",
    "# Cambiar al directorio del repositorio para los siguientes comandos\n",
    "os.chdir(repo_path)\n",
    "\n",
    "# --- Descargar dependencias de Go ---\n",
    "print(\"\\nDescargando dependencias de Go...\")\n",
    "try:\n",
    "    # El argumento '--only=prod' es útil si hay dependencias de desarrollo\n",
    "    subprocess.run(['go', 'mod', 'download'], check=True, capture_output=True, text=True)\n",
    "    print(\"Dependencias descargadas.\")\n",
    "except subprocess.CalledProcessError as e:\n",
    "    print(f\"Error al descargar dependencias: {e.stderr}\")\n",
    "    print(\"Asegúrate de tener Go instalado y que el módulo 'go.mod' existe en el repositorio.\")\n",
    "except FileNotFoundError:\n",
    "    print(\"Error: El comando 'go' no fue encontrado. Asegúrate de que Go está instalado y accesible desde tu PATH.\")\n",
    "\n",
    "\n",
    "# --- Construir el ejecutable ---\n",
    "print(\"\\nConstruyendo el ejecutable...\")\n",
    "try:\n",
    "    # 'go build' compila el paquete principal (main.go) en el directorio actual\n",
    "    subprocess.run(['go', 'build'], check=True, capture_output=True, text=True)\n",
    "    print(\"Construcción completa.\")\n",
    "except subprocess.CalledProcessError as e:\n",
    "    print(f\"Error al construir el ejecutable: {e.stderr}\")\n",
    "    print(\"Verifica si hay errores de compilación en el código fuente.\")\n",
    "except FileNotFoundError:\n",
    "        print(\"Error: El comando 'go' no fue encontrado. Asegúrate de que Go está instalado y accesible desde tu PATH.\")\n",
    "\n",
    "# Verificar si el ejecutable fue creado (esto puede variar según el SO, aquí un ejemplo para Linux/macOS y Windows)\n",
    "executable_name = 'google-maps-scraper' # Nombre base del ejecutable\n",
    "if os.name == 'nt': # Si es Windows\n",
    "    executable_name += '.exe'\n",
    "\n",
    "executable_path_check = os.path.join(os.getcwd(), executable_name)\n",
    "\n",
    "if os.path.exists(executable_path_check):\n",
    "    print(f\"\\nEjecutable encontrado en: '{executable_path_check}'\")\n",
    "    # Restaurar el directorio de trabajo al original si no lo gestionamos explícitamente después\n",
    "    # os.chdir('..') # Descomentar si necesitas volver al directorio original del cuaderno\n",
    "else:\n",
    "    print(f\"\\nError: No se encontró el ejecutable en '{executable_path_check}'. La construcción pudo haber fallado.\")\n",
    "    print(\"Revisa la salida de error anterior para más detalles.\")\n",
    "\n",
    "# Nota: El directorio de trabajo actual sigue siendo el del repositorio después de esta celda.\n",
    "# Para volver al directorio original del cuaderno si es necesario, puedes añadir:\n",
    "# import os\n",
    "# os.chdir('/ruta/donde/esta/tu/cuaderno')\n",
    "# Pero para este cuaderno, seguiremos trabajando dentro del directorio del repositorio para acceder al ejecutable y archivos.\n"
   ]
  }
 ],
 "metadata": {
  "language_info": {
   "name": "python"
  }
 },
 "nbformat": 4,
 "nbformat_minor": 2
}
